{
 "cells": [
  {
   "cell_type": "code",
   "execution_count": 7,
   "metadata": {},
   "outputs": [],
   "source": [
    "import numpy as np # linear algebra\n",
    "import pandas as pd # data processing, CSV file I/O (e.g. pd.read_csv)\n",
    "import os\n",
    "import cv2\n",
    "from pathlib import Path\n",
    "import seaborn as sns\n",
    "import matplotlib.pyplot as plt\n",
    "from skimage.io import imread"
   ]
  },
  {
   "cell_type": "code",
   "execution_count": 26,
   "metadata": {},
   "outputs": [],
   "source": [
    "\n",
    "data_dir = Path('/home/anurag/Downloads/archive (2)/CT-KIDNEY-DATASET-Normal-Cyst-Tumor-Stone/')\n",
    "\n",
    "train_dir = data_dir / 'CT-KIDNEY-DATASET-Normal-Cyst-Tumor-Stone'\n",
    "\n",
    "normal_cases_dir = train_dir / 'Normal'\n",
    "cyst_cases_dir = train_dir / 'Cyst'\n",
    "stone_cases_dir = train_dir / 'Stone'\n",
    "tumor_cases_dir = train_dir / 'Tumor'\n"
   ]
  },
  {
   "cell_type": "code",
   "execution_count": 36,
   "metadata": {},
   "outputs": [
    {
     "ename": "TypeError",
     "evalue": "object of type 'generator' has no len()",
     "output_type": "error",
     "traceback": [
      "\u001b[0;31m---------------------------------------------------------------------------\u001b[0m",
      "\u001b[0;31mTypeError\u001b[0m                                 Traceback (most recent call last)",
      "Cell \u001b[0;32mIn[36], line 32\u001b[0m\n\u001b[1;32m     30\u001b[0m \u001b[38;5;66;03m# Shuffle the data \u001b[39;00m\n\u001b[1;32m     31\u001b[0m train_data \u001b[38;5;241m=\u001b[39m train_data\u001b[38;5;241m.\u001b[39msample(frac\u001b[38;5;241m=\u001b[39m\u001b[38;5;241m1.\u001b[39m)\u001b[38;5;241m.\u001b[39mreset_index(drop\u001b[38;5;241m=\u001b[39m\u001b[38;5;28;01mTrue\u001b[39;00m)\n\u001b[0;32m---> 32\u001b[0m normal_cases_size \u001b[38;5;241m=\u001b[39m \u001b[38;5;28;43mlen\u001b[39;49m\u001b[43m(\u001b[49m\u001b[43mnormal_cases\u001b[49m\u001b[43m)\u001b[49m\n\u001b[1;32m     33\u001b[0m cyst_cases_size \u001b[38;5;241m=\u001b[39m \u001b[38;5;28mlen\u001b[39m(cyst_cases)\n\u001b[1;32m     34\u001b[0m stone_cases_size \u001b[38;5;241m=\u001b[39m \u001b[38;5;28mlen\u001b[39m(stone_cases)\n",
      "\u001b[0;31mTypeError\u001b[0m: object of type 'generator' has no len()"
     ]
    }
   ],
   "source": [
    "\n",
    "\n",
    "# Get the list of all the images\n",
    "normal_cases = normal_cases_dir.glob('*.jpg')\n",
    "Cyst_cases = Cyst_cases_dir.glob('*.jpg')\n",
    "Stone_cases = Stone_cases_dir.glob('*.jpg')\n",
    "Tumor_cases = Tumor_cases_dir.glob('*.jpg')\n",
    "\n",
    "\n",
    "# An empty list. We will insert the data into this list in (img_path, label) format\n",
    "train_data = []\n",
    "\n",
    "\n",
    "# Go through all the Cyst_cases . The label for these cases will be 1\n",
    "for img in Cyst_cases:\n",
    "    train_data.append((img, 0))\n",
    "    # Go through all the normal cases. The label for these cases will be 0\n",
    "for img in normal_cases:\n",
    "    train_data.append((img,1))\n",
    "\n",
    "# Go through all the normal cases. The label for these cases will be 0\n",
    "for img in Stone_cases:\n",
    "    train_data.append((img,2))\n",
    "\n",
    "# Go through all the Tumor_cases . The label for these cases will be 1\n",
    "for img in Tumor_cases:\n",
    "    train_data.append((img, 3))\n",
    "\n",
    "# Get a pandas dataframe from the data we have in our list \n",
    "train_data = pd.DataFrame(train_data, columns=['image', 'label'],index=None)\n",
    "\n",
    "# Shuffle the data \n",
    "train_data = train_data.sample(frac=1.).reset_index(drop=True)\n",
    "normal_cases_size = len(normal_cases)\n",
    "cyst_cases_size = len(cyst_cases)\n",
    "stone_cases_size = len(stone_cases)\n",
    "tumor_cases_size = len(tumor_cases)\n",
    "\n",
    "# How the dataframe looks like?\n",
    "print(\"Normal cases size:\", normal_cases_size)\n",
    "print(\"Cyst cases size:\", cyst_cases_size)\n",
    "print(\"Stone cases size:\", stone_cases_size)\n",
    "print(\"Tumor cases size:\", tumor_cases_size)\n",
    "\n",
    "\n",
    "# Get the list of all the images\n",
    "normal_cases = normal_cases_dir.glob('*.jpg')\n",
    "Cyst_cases = Cyst_cases_dir.glob('*.jpg')\n",
    "Stone_cases = Stone_cases_dir.glob('*.jpg')\n",
    "Tumor_cases = Tumor_cases_dir.glob('*.jpg')\n",
    "\n",
    "\n",
    "# An empty list. We will insert the data into this list in (img_path, label) format\n",
    "train_data = []\n",
    "\n",
    "\n",
    "# Go through all the Cyst_cases . The label for these cases will be 1\n",
    "for img in Cyst_cases:\n",
    "    train_data.append((img, 0))\n",
    "    # Go through all the normal cases. The label for these cases will be 0\n",
    "for img in normal_cases:\n",
    "    train_data.append((img,1))\n",
    "\n",
    "# Go through all the normal cases. The label for these cases will be 0\n",
    "for img in Stone_cases:\n",
    "    train_data.append((img,2))\n",
    "\n",
    "# Go through all the Tumor_cases . The label for these cases will be 1\n",
    "for img in Tumor_cases:\n",
    "    train_data.append((img, 3))\n",
    "\n",
    "# Get a pandas dataframe from the data we have in our list \n",
    "train_data = pd.DataFrame(train_data, columns=['image', 'label'],index=None)\n",
    "\n",
    "# Shuffle the data \n",
    "train_data = train_data.sample(frac=1.).reset_index(drop=True)\n",
    "normal_cases_size = len(normal_cases)\n",
    "cyst_cases_size = len(cyst_cases)\n",
    "stone_cases_size = len(stone_cases)\n",
    "tumor_cases_size = len(tumor_cases)\n",
    "\n",
    "# How the dataframe looks like?\n",
    "print(\"Normal cases size:\", normal_cases_size)\n",
    "print(\"Cyst cases size:\", cyst_cases_size)\n",
    "print(\"Stone cases size:\", stone_cases_size)\n",
    "print(\"Tumor cases size:\", tumor_cases_size)"
   ]
  },
  {
   "cell_type": "code",
   "execution_count": 30,
   "metadata": {},
   "outputs": [
    {
     "data": {
      "text/plain": [
       "array([1])"
      ]
     },
     "execution_count": 30,
     "metadata": {},
     "output_type": "execute_result"
    }
   ],
   "source": [
    "train_data['label'].unique()"
   ]
  },
  {
   "cell_type": "code",
   "execution_count": null,
   "metadata": {},
   "outputs": [],
   "source": []
  }
 ],
 "metadata": {
  "kernelspec": {
   "display_name": "venv",
   "language": "python",
   "name": "python3"
  },
  "language_info": {
   "codemirror_mode": {
    "name": "ipython",
    "version": 3
   },
   "file_extension": ".py",
   "mimetype": "text/x-python",
   "name": "python",
   "nbconvert_exporter": "python",
   "pygments_lexer": "ipython3",
   "version": "3.11.6"
  }
 },
 "nbformat": 4,
 "nbformat_minor": 2
}
